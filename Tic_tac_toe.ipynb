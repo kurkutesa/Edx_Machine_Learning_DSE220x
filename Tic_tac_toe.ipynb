{
 "cells": [
  {
   "cell_type": "code",
   "execution_count": 1,
   "metadata": {},
   "outputs": [],
   "source": [
    "import pandas as pd\n",
    "import numpy as np\n",
    "from IPython.display import display, HTML\n",
    "from sklearn.datasets import load_iris"
   ]
  },
  {
   "cell_type": "code",
   "execution_count": 2,
   "metadata": {},
   "outputs": [],
   "source": [
    "# class players:\n",
    "#     def __init__(self, player, signs):\n",
    "#         self.player = player\n",
    "#         self.signs = signs\n",
    "#         self.aac = np.array(['A00','A01','A02','A10','A11','A12','A20','A21','A22'])\n",
    "#         self.bbc = self.aac.reshape(3,3)\n",
    "#         self.df = pd.DataFrame(self.bbc,index=('Tic', 'Tac', 'Toe'),columns=['Tic', 'Tac', 'Toe'])\n",
    "#         self.ac = []\n",
    "\n",
    "#     def player_name_sign(self):\n",
    "#         return self.player, self.signs\n",
    "    \n",
    "#     def reset_board(self):\n",
    "#         aac = np.array(['A00','A01','A02','A10','A11','A12','A20','A21','A22'])\n",
    "#         bbc = aac.reshape(3,3)\n",
    "#         ac = []\n",
    "#         df = self.df\n",
    "#         return self.aac, self.bbc, self.ac, self.df\n",
    "\n",
    "#     def input_by_player(self):\n",
    "#         x,y = map(int, input(self.player+\" Enter the position for: \" + self.signs +\" \").split())\n",
    "#         bbc[x,y] = self.signs\n",
    "#         print('\\x1b[0;37;41m' + bbc[x,y] + '\\x1b[0m')\n",
    "#         return x, y"
   ]
  },
  {
   "cell_type": "code",
   "execution_count": 3,
   "metadata": {},
   "outputs": [],
   "source": [
    "class players:\n",
    "    def __init__(self):\n",
    "        self.player_name = input(\"Enter Player Name: \")\n",
    "        self.player_sign = input(\"Enter Player Sign: \")\n",
    "        self.aac = np.array(['A00','A01','A02','A10','A11','A12','A20','A21','A22'])\n",
    "        self.bbc = self.aac.reshape(3,3)\n",
    "        self.df = pd.DataFrame(self.bbc,index=('Tic', 'Tac', 'Toe'),columns=['Tic', 'Tac', 'Toe'])\n",
    "        self.ac = []\n",
    "    \n",
    "    def reset_board(self):\n",
    "        aac = np.array(['A00','A01','A02','A10','A11','A12','A20','A21','A22'])\n",
    "        bbc = aac.reshape(3,3)\n",
    "        ac = []\n",
    "        df = self.df\n",
    "        return self.aac, self.bbc, self.ac, self.df\n",
    "\n",
    "    def input_by_player(self):\n",
    "        x,y = map(int, input(self.player_name+\" Enter the position for: \" + self.player_sign +\" \").split())\n",
    "        bbc[x,y] = self.player_sign\n",
    "        df = pd.DataFrame(self.bbc,index=('Tic', 'Tac', 'Toe'),columns=['Tic', 'Tac', 'Toe'])\n",
    "        self.ac.append([x,y])\n",
    "        print(df)\n",
    "        return x, y\n",
    "    \n",
    "    def create_list_not_in_dataFrame(bbc):\n",
    "        X1, Y1 = np.where(bbc != 'X') \n",
    "        X2, Y2 = np.where(bbc != 'O')\n",
    "        print([X1,Y1],[X2,Y2])\n",
    "        return X1, Y1, X2, Y2\n",
    "    \n",
    "    def computer_turn(X1,Y1,X2,Y2):\n",
    "        if X1 == 'NULL':\n",
    "            print(\"OK\")\n",
    "        else:\n",
    "            X3 = np.concatenate((np.reshape(X1,(len(X1),1)),np.reshape(Y1,(len(X1),1))),axis=1)\n",
    "\n",
    "        if X2 == 'NULL':\n",
    "            print(\"OK\")\n",
    "        else:\n",
    "            Y3 = np.concatenate((np.reshape(X2,(len(X2),1)),np.reshape(Y2,(len(X2),1))),axis=1)\n",
    "\n",
    "        XX = [x for x in (np.ndarray.tolist(X3) and (np.ndarray.tolist(Y3))) if x not in ac]\n",
    "        Computer_1 = np.random.randint(len(XX))\n",
    "        xc, yc = XX[Computer_1]\n",
    "        return xc, yc, XX\n",
    "    \n",
    "    def do_not_repeat(x,y,bbc,ac,player,sign):\n",
    "        while [x,y] in ac:\n",
    "            X1, Y1, X2, Y2 = create_list_not_in_dataFrame(bbc)\n",
    "            xc, yc, XX = computer_turn(X1,Y1,X2,Y2)\n",
    "            print(\"Please enter the number at different position such as one of these :\", XX)\n",
    "            x, y, playerX, df, bbc = user_input.input_by_player(player,sign)\n",
    "            if [x,y] == XX:\n",
    "                x, y, playerX, df, bbc = user_input.input_by_player(player,sign)\n",
    "            return ac, x, y, playerX, df, bbc\n",
    "        else:\n",
    "            x, y, playerY, df, bbc = user_input.input_by_player(player,sign)\n",
    "            attached_ac(ac,x,y)\n",
    "            return ac, x, y, playerY, df, bbc    \n"
   ]
  },
  {
   "cell_type": "code",
   "execution_count": 4,
   "metadata": {},
   "outputs": [
    {
     "ename": "NameError",
     "evalue": "name 'player_1' is not defined",
     "output_type": "error",
     "traceback": [
      "\u001b[0;31m---------------------------------------------------------------------------\u001b[0m",
      "\u001b[0;31mNameError\u001b[0m                                 Traceback (most recent call last)",
      "\u001b[0;32m<ipython-input-4-90f0be8f0c0a>\u001b[0m in \u001b[0;36m<module>\u001b[0;34m\u001b[0m\n\u001b[1;32m      2\u001b[0m \u001b[0;31m#player_2 = players()\u001b[0m\u001b[0;34m\u001b[0m\u001b[0;34m\u001b[0m\u001b[0;34m\u001b[0m\u001b[0m\n\u001b[1;32m      3\u001b[0m \u001b[0;31m#aac, bbc, ac, df = player_1.reset_board()\u001b[0m\u001b[0;34m\u001b[0m\u001b[0;34m\u001b[0m\u001b[0;34m\u001b[0m\u001b[0m\n\u001b[0;32m----> 4\u001b[0;31m \u001b[0mx\u001b[0m\u001b[0;34m,\u001b[0m\u001b[0my\u001b[0m \u001b[0;34m=\u001b[0m \u001b[0mplayer_1\u001b[0m\u001b[0;34m.\u001b[0m\u001b[0minput_by_player\u001b[0m\u001b[0;34m(\u001b[0m\u001b[0;34m)\u001b[0m\u001b[0;34m\u001b[0m\u001b[0;34m\u001b[0m\u001b[0m\n\u001b[0m\u001b[1;32m      5\u001b[0m \u001b[0mX1\u001b[0m\u001b[0;34m,\u001b[0m \u001b[0mY1\u001b[0m\u001b[0;34m,\u001b[0m \u001b[0mX2\u001b[0m\u001b[0;34m,\u001b[0m \u001b[0mY2\u001b[0m \u001b[0;34m=\u001b[0m \u001b[0mplayers\u001b[0m\u001b[0;34m.\u001b[0m\u001b[0mcreate_list_not_in_dataFrame\u001b[0m\u001b[0;34m(\u001b[0m\u001b[0mbbc\u001b[0m\u001b[0;34m)\u001b[0m\u001b[0;34m\u001b[0m\u001b[0;34m\u001b[0m\u001b[0m\n\u001b[1;32m      6\u001b[0m \u001b[0;34m\u001b[0m\u001b[0m\n",
      "\u001b[0;31mNameError\u001b[0m: name 'player_1' is not defined"
     ]
    }
   ],
   "source": [
    "#player_1 = players()\n",
    "#player_2 = players()\n",
    "#aac, bbc, ac, df = player_1.reset_board()\n",
    "x,y = player_1.input_by_player()\n",
    "X1, Y1, X2, Y2 = players.create_list_not_in_dataFrame(bbc)\n",
    "\n"
   ]
  },
  {
   "cell_type": "code",
   "execution_count": 49,
   "metadata": {},
   "outputs": [
    {
     "name": "stdout",
     "output_type": "stream",
     "text": [
      "[array([0, 0, 1, 2, 2]), array([1, 2, 0, 0, 1])] [array([0, 0, 0, 1, 1, 1, 2, 2, 2]), array([0, 1, 2, 0, 1, 2, 0, 1, 2])]\n"
     ]
    }
   ],
   "source": [
    "while[ (Game_status_row != 'Finished') or (Game_status_cols != 'Finished')]:\n",
    "    x, y, player_1, df, bbc = user_input.input_by_player(player_1,sign_1)\n",
    "    attached_ac(ac,x,y)\n",
    "    Game_status_row = check_condition_row_col.check_rows(bbc)\n",
    "    Game_status_cols = check_condition_row_col.check_cols(bbc)\n",
    "    if Game_status_cols == 'Finished' or Game_status_row == 'Finished':\n",
    "        print(\"Player : \"+player_1+\"  have Won\")\n",
    "        break\n",
    "    else:\n",
    "        ac, x,y, player_2, df, bbc = do_not_repeat(x,y,bbc,ac, player_2, sign_2)\n",
    "        print(\"Sign: \"+sign_2+\" player: \"+player_2)\n",
    "        attached_ac(ac,x,y)\n",
    "        Game_status_row = check_condition_row_col.check_rows(bbc)\n",
    "        Game_status_cols = check_condition_row_col.check_cols(bbc)\n",
    "#        print(Game_status_row)\n",
    "#        print(Game_status_cols)\n",
    "        if Game_status_cols == 'Finished' or Game_status_row == 'Finished':\n",
    "            print(\"Player : \"+player_2+\"  have Won\")\n",
    "            break\n",
    "\n"
   ]
  },
  {
   "cell_type": "code",
   "execution_count": 53,
   "metadata": {},
   "outputs": [
    {
     "name": "stdout",
     "output_type": "stream",
     "text": [
      "d is: ['0.00000000', '0.16600000', '0.33300000', '0.45630000', '0.05670000', '0.09845000', '0.98534000']\n",
      "p is: ['0.00000000', '0.25400000', '0.99800000', '0.32450000', '0.04230000', '0.01670000', '0.78300000']\n",
      "rms error is: 0.27128586348826106\n"
     ]
    }
   ],
   "source": [
    "import numpy as np\n",
    "y_hat = np.array([0.000, 0.166, 0.333, 0.4563, 0.0567, 0.09845, 0.98534])\n",
    "y_true = np.array([0.000, 0.254, 0.998, 0.3245, 0.0423, 0.0167, 0.783])\n",
    "def rmse(predictions, targets):\n",
    "    differences = predictions - targets\n",
    "    differences_squared = differences ** 2\n",
    "    mean_of_differences_squared = differences_squared.mean()\n",
    "    rmse_val = np.sqrt(mean_of_differences_squared)\n",
    "    return rmse_val\n",
    "print(\"d is: \" + str([\"%.8f\" % elem for elem in y_hat]))\n",
    "print(\"p is: \" + str([\"%.8f\" % elem for elem in y_true]))\n",
    "rmse_val = rmse(y_hat, y_true)\n",
    "print(\"rms error is: \" + str(rmse_val))"
   ]
  },
  {
   "cell_type": "code",
   "execution_count": 40,
   "metadata": {},
   "outputs": [
    {
     "data": {
      "text/plain": [
       "[[0, 0], [1, 2]]"
      ]
     },
     "execution_count": 40,
     "metadata": {},
     "output_type": "execute_result"
    }
   ],
   "source": [
    "plt"
   ]
  },
  {
   "cell_type": "code",
   "execution_count": null,
   "metadata": {},
   "outputs": [],
   "source": []
  },
  {
   "cell_type": "code",
   "execution_count": null,
   "metadata": {},
   "outputs": [],
   "source": [
    "def attached_ac(ac,x,y):\n",
    "    print(\"I am from attached ac\")\n",
    "    ac.append([x,y])\n",
    "    print(ac)\n",
    "    return ac\n",
    "\n",
    "def create_list_not_in_dataFrame(bbc):\n",
    "    X1, Y1 = np.where(bbc != 'X') \n",
    "    X2, Y2 = np.where(bbc != 'O')\n",
    "    return X1, Y1, X2, Y2\n",
    "\n",
    "\n",
    "##### Original\n"
   ]
  },
  {
   "cell_type": "code",
   "execution_count": 6,
   "metadata": {},
   "outputs": [
    {
     "data": {
      "text/plain": [
       "<seaborn.axisgrid.FacetGrid at 0x1a1d66cc90>"
      ]
     },
     "execution_count": 6,
     "metadata": {},
     "output_type": "execute_result"
    },
    {
     "data": {
      "image/png": "[encoded data removed]",
      "text/plain": [
       "<Figure size 406x360 with 1 Axes>"
      ]
     },
     "metadata": {
      "needs_background": "light"
     },
     "output_type": "display_data"
    }
   ],
   "source": [
    "from matplotlib import pyplot as plt\n",
    "import seaborn as sns\n",
    "%matplotlib inline\n",
    "data = np.array([(1,2,-1),(2,1,-1),(2,3,-1),(3,2,-1),(4,5,1),(5,4,1),(5,6,1),(6,5,1)])\n",
    "df1 = pd.DataFrame(data,columns=['x1', 'x2', 'label'])\n",
    "sns.lmplot(\"x1\",\"x2\",hue='label',data=df1,)\n"
   ]
  },
  {
   "cell_type": "code",
   "execution_count": 62,
   "metadata": {},
   "outputs": [
    {
     "name": "stdout",
     "output_type": "stream",
     "text": [
      "Optimized a step.\n",
      "Optimized a step.\n",
      "Optimized a step.\n",
      "[1 2] : 2.352000000000624\n",
      "[2 1] : 1.0080000000003275\n",
      "[2 8] : 5.712000000001366\n",
      "[5 1] : 1.0080000000001172\n",
      "[ 6 -1] : 3.0240000000005622\n",
      "[7 3] : 1.0080000000001172\n"
     ]
    },
    {
     "data": {
      "image/png": "[encoded data removed]",
      "text/plain": [
       "<Figure size 432x288 with 1 Axes>"
      ]
     },
     "metadata": {},
     "output_type": "display_data"
    }
   ],
   "source": [
    "import matplotlib.pyplot as plt\n",
    "from matplotlib import style\n",
    "import numpy as np\n",
    "style.use('ggplot')\n",
    "\n",
    "class Support_Vector_Machine:\n",
    "    def __init__(self, visualization=True):\n",
    "        self.visualization = visualization\n",
    "        self.colors = {1:'r',-1:'b'}\n",
    "        if self.visualization:\n",
    "            self.fig = plt.figure()\n",
    "            self.ax = self.fig.add_subplot(1,1,1)\n",
    "    # train\n",
    "    def fit(self, data):\n",
    "        self.data = data\n",
    "        # { ||w||: [w,b] }\n",
    "        opt_dict = {}\n",
    "\n",
    "        transforms = [[1,1],\n",
    "                      [-1,1],\n",
    "                      [-1,-1],\n",
    "                      [1,-1]]\n",
    "\n",
    "        all_data = []\n",
    "        for yi in self.data:\n",
    "            for featureset in self.data[yi]:\n",
    "                for feature in featureset:\n",
    "                    all_data.append(feature)\n",
    "\n",
    "        self.max_feature_value = max(all_data)\n",
    "        self.min_feature_value = min(all_data)\n",
    "        all_data = None\n",
    "\n",
    "        # support vectors yi(xi.w+b) = 1\n",
    "        \n",
    "\n",
    "        step_sizes = [self.max_feature_value * 0.1,\n",
    "                      self.max_feature_value * 0.01,\n",
    "                      # point of expense:\n",
    "                      self.max_feature_value * 0.001,\n",
    "                      ]\n",
    "\n",
    "        \n",
    "        \n",
    "        # extremely expensive\n",
    "        b_range_multiple = 3 #2\n",
    "        # we dont need to take as small of steps\n",
    "        # with b as we do w\n",
    "        b_multiple = 5\n",
    "        latest_optimum = self.max_feature_value*10\n",
    "        \n",
    "        for step in step_sizes:\n",
    "            w = np.array([latest_optimum,latest_optimum])\n",
    "            # we can do this because convex\n",
    "            optimized = False\n",
    "            while not optimized:\n",
    "                for b in np.arange(-1*(self.max_feature_value*b_range_multiple),\n",
    "                                   self.max_feature_value*b_range_multiple,\n",
    "                                   step*b_multiple):\n",
    "                    for transformation in transforms:\n",
    "                        w_t = w*transformation\n",
    "                        found_option = True\n",
    "                        # weakest link in the SVM fundamentally\n",
    "                        # SMO attempts to fix this a bit\n",
    "                        # yi(xi.w+b) >= 1\n",
    "                        # \n",
    "                        # #### add a break here later..\n",
    "                        for i in self.data:\n",
    "                            for xi in self.data[i]:\n",
    "                                yi=i\n",
    "                                if not yi*(np.dot(w_t,xi)+b) >= 1:\n",
    "                                    found_option = False\n",
    "                                    #print(xi,':',yi*(np.dot(w_t,xi)+b))\n",
    "                                    \n",
    "                        if found_option:\n",
    "                            opt_dict[np.linalg.norm(w_t)] = [w_t,b]\n",
    "\n",
    "                if w[0] < 0:\n",
    "                    optimized = True\n",
    "                    print('Optimized a step.')\n",
    "                else:\n",
    "                    w = w - step\n",
    "\n",
    "            norms = sorted([n for n in opt_dict])\n",
    "            #||w|| : [w,b]\n",
    "            opt_choice = opt_dict[norms[0]]\n",
    "            self.w = opt_choice[0]\n",
    "            self.b = opt_choice[1]\n",
    "            latest_optimum = opt_choice[0][0]+step*2\n",
    "            \n",
    "        for i in self.data:\n",
    "            for xi in self.data[i]:\n",
    "                yi=i\n",
    "                print(xi,':',yi*(np.dot(self.w,xi)+self.b))            \n",
    "\n",
    "    def predict(self,features):\n",
    "        # sign( x.w+b )\n",
    "        classification = np.sign(np.dot(np.array(features),self.w)+self.b)\n",
    "        if classification !=0 and self.visualization:\n",
    "            self.ax.scatter(features[0], features[1], s=200, marker='*', c=self.colors[classification])\n",
    "        return classification\n",
    "\n",
    "    def visualize(self):\n",
    "        [[self.ax.scatter(x[0],x[1],s=100,color=self.colors[i]) for x in data_dict[i]] for i in data_dict]\n",
    "\n",
    "        # hyperplane = x.w+b\n",
    "        # v = x.w+b\n",
    "        # psv = 1\n",
    "        # nsv = -1\n",
    "        # dec = 0\n",
    "        def hyperplane(x,w,b,v):\n",
    "            return (-w[0]*x-b+v) / w[1]\n",
    "\n",
    "        datarange = (self.min_feature_value*0.9,self.max_feature_value*1.1)\n",
    "        hyp_x_min = datarange[0]\n",
    "        hyp_x_max = datarange[1]\n",
    "\n",
    "        # (w.x+b) = 1\n",
    "        # positive support vector hyperplane\n",
    "        psv1 = hyperplane(hyp_x_min, self.w, self.b, 1)\n",
    "        psv2 = hyperplane(hyp_x_max, self.w, self.b, 1)\n",
    "        self.ax.plot([hyp_x_min,hyp_x_max],[psv1,psv2], 'k')\n",
    "\n",
    "        # (w.x+b) = -1\n",
    "        # negative support vector hyperplane\n",
    "        nsv1 = hyperplane(hyp_x_min, self.w, self.b, -1)\n",
    "        nsv2 = hyperplane(hyp_x_max, self.w, self.b, -1)\n",
    "        self.ax.plot([hyp_x_min,hyp_x_max],[nsv1,nsv2], 'k')\n",
    "\n",
    "        # (w.x+b) = 0\n",
    "        # positive support vector hyperplane\n",
    "        db1 = hyperplane(hyp_x_min, self.w, self.b, 0)\n",
    "        db2 = hyperplane(hyp_x_max, self.w, self.b, 0)\n",
    "        self.ax.plot([hyp_x_min,hyp_x_max],[db1,db2], 'y--')\n",
    "\n",
    "        plt.show()\n",
    "        \n",
    "# data_dict = {-1:np.array([[1,7],\n",
    "#                           [2,8],\n",
    "#                           [3,8],]),\n",
    "             \n",
    "#              1:np.array([[5,1],\n",
    "#                          [6,-1],\n",
    "#                          [7,3],])}\n",
    "\n",
    "data_dict = {-1:np.array([[1,2],\n",
    "                          [2,1],\n",
    "                          [2,8],]),\n",
    "             \n",
    "             1:np.array([[5,1],\n",
    "                         [6,-1],\n",
    "                         [7,3],])}\n",
    "\n",
    "\n",
    "\n",
    "# data_dict = {-1:np.array([[1,2],\n",
    "#                           [2,1],\n",
    "#                           [2,8],\n",
    "#                           [3,2],]),\n",
    "             \n",
    "#              1:np.array([[4,5],\n",
    "#                          [5,4],\n",
    "#                          [5,6],\n",
    "#                          [6,5],])}\n",
    "\n",
    "\n",
    "\n",
    "svm = Support_Vector_Machine()\n",
    "svm.fit(data=data_dict)\n",
    "\n",
    "predict_us = [[0,10],\n",
    "              [1,3],\n",
    "              [3,4],\n",
    "              [3,5],\n",
    "              [5,5],\n",
    "              [5,6],\n",
    "              [6,-5],\n",
    "              [5,8]]\n",
    "\n",
    "for p in predict_us:\n",
    "    svm.predict(p)\n",
    "\n",
    "svm.visualize()"
   ]
  },
  {
   "cell_type": "code",
   "execution_count": 65,
   "metadata": {},
   "outputs": [],
   "source": [
    "transforms = [[1,1], [-1,1], [-1,-1],[1,-1]]"
   ]
  },
  {
   "cell_type": "code",
   "execution_count": 72,
   "metadata": {},
   "outputs": [],
   "source": [
    "x = np.array([5, 15, 25, 35, 45, 55]).reshape((-1, 1))\n",
    "y = np.array([5, 20, 14, 32, 22, 38])"
   ]
  },
  {
   "cell_type": "code",
   "execution_count": 75,
   "metadata": {},
   "outputs": [
    {
     "data": {
      "text/plain": [
       "array([[ 5],\n",
       "       [15],\n",
       "       [25],\n",
       "       [35],\n",
       "       [45],\n",
       "       [55]])"
      ]
     },
     "execution_count": 75,
     "metadata": {},
     "output_type": "execute_result"
    }
   ],
   "source": [
    "x"
   ]
  },
  {
   "cell_type": "code",
   "execution_count": 85,
   "metadata": {},
   "outputs": [
    {
     "data": {
      "text/plain": [
       "[<matplotlib.lines.Line2D at 0x1a241b2bd0>]"
      ]
     },
     "execution_count": 85,
     "metadata": {},
     "output_type": "execute_result"
    },
    {
     "data": {
      "image/png": "[encoded data removed]",
      "text/plain": [
       "<Figure size 432x288 with 1 Axes>"
      ]
     },
     "metadata": {},
     "output_type": "display_data"
    }
   ],
   "source": [
    "plt.plot(np.squeeze(y))"
   ]
  },
  {
   "cell_type": "code",
   "execution_count": null,
   "metadata": {},
   "outputs": [],
   "source": []
  }
 ],
 "metadata": {
  "kernelspec": {
   "display_name": "Python 3",
   "language": "python",
   "name": "python3"
  },
  "language_info": {
   "codemirror_mode": {
    "name": "ipython",
    "version": 3
   },
   "file_extension": ".py",
   "mimetype": "text/x-python",
   "name": "python",
   "nbconvert_exporter": "python",
   "pygments_lexer": "ipython3",
   "version": "3.7.4"
  }
 },
 "nbformat": 4,
 "nbformat_minor": 2
}
