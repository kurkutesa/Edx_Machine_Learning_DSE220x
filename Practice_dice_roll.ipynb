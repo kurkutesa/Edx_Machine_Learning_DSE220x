{
 "cells": [
  {
   "cell_type": "code",
   "execution_count": null,
   "metadata": {},
   "outputs": [],
   "source": [
    "import numpy as np\n",
    " \n",
    "Ndice = 3\n",
    "n = 10\n",
    "dice_rolls= np.random.randint(1,7,(n, Ndice))\n",
    " \n",
    "np.sum(np.less(dice_rolls[:,0], dice_rolls[:,1]))/n\n",
    "\n",
    "dice_rolls"
   ]
  },
  {
   "cell_type": "code",
   "execution_count": null,
   "metadata": {},
   "outputs": [],
   "source": [
    "import numpy as np\n",
    "Ndice = 2\n",
    "n = 5\n",
    "dice_rolls= np.random.randint(1,7,(n, Ndice))\n",
    " \n",
    "#np.sum(np.less(dice_rolls[:,0], dice_rolls[:,1]))/n\n",
    "\n",
    "\n",
    "#x1_x2 = np.sum(np.equal(dice_rolls[:,0]==4, dice_rolls[:,1]==4))/n\n",
    "x1_x2 =np.equal(dice_rolls[:,0] == 4, dice_rolls[:,1] == 4)\n",
    "\n",
    "sum_10 = (dice_rolls[:,0] + dice_rolls[:,1]) > 7"
   ]
  },
  {
   "cell_type": "markdown",
   "metadata": {},
   "source": [
    "### The following line computes the conditional probability if the dice throws X1 and X2 = 4 given their sum is X1 + X2 > 7"
   ]
  },
  {
   "cell_type": "code",
   "execution_count": null,
   "metadata": {},
   "outputs": [],
   "source": [
    "np.sum(np.equal(dice_rolls[sum_10,0] == 4, dice_rolls[sum_10,1] == 4))/n\n",
    "dice_rolls[x1_x2]\n",
    "np.equal(dice_rolls[:,0] == 4, dice_rolls[:,1] == 4, where=True)"
   ]
  },
  {
   "cell_type": "code",
   "execution_count": null,
   "metadata": {},
   "outputs": [],
   "source": [
    "np.equal(dice_rolls[:,0], dice_rolls[:,1], where=True)"
   ]
  },
  {
   "cell_type": "code",
   "execution_count": null,
   "metadata": {},
   "outputs": [],
   "source": [
    "np.equal([0, 1, 2], np.arange(3), where=True)"
   ]
  },
  {
   "cell_type": "code",
   "execution_count": null,
   "metadata": {},
   "outputs": [],
   "source": [
    "np.arange(3)"
   ]
  },
  {
   "cell_type": "code",
   "execution_count": null,
   "metadata": {},
   "outputs": [],
   "source": [
    "ss = np.sum(dice_rolls,axis=1) > 7\n",
    "np.sum(dice_rolls[ss] == 4)/n"
   ]
  },
  {
   "cell_type": "code",
   "execution_count": null,
   "metadata": {},
   "outputs": [],
   "source": [
    "(dice_rolls[ss] == 4)"
   ]
  },
  {
   "cell_type": "code",
   "execution_count": null,
   "metadata": {},
   "outputs": [],
   "source": [
    "dice_rolls[ss]"
   ]
  },
  {
   "cell_type": "code",
   "execution_count": null,
   "metadata": {},
   "outputs": [],
   "source": [
    "dice_rolls[sum_10]"
   ]
  },
  {
   "cell_type": "code",
   "execution_count": null,
   "metadata": {},
   "outputs": [],
   "source": [
    "np.equal(dice_rolls[sum_10,0]==4, dice_rolls[sum_10,1]==4)"
   ]
  },
  {
   "cell_type": "code",
   "execution_count": null,
   "metadata": {},
   "outputs": [],
   "source": [
    "dice_rolls[sum_10,0]"
   ]
  },
  {
   "cell_type": "code",
   "execution_count": null,
   "metadata": {},
   "outputs": [],
   "source": [
    "dice_rolls[sum_10,1]"
   ]
  },
  {
   "cell_type": "code",
   "execution_count": null,
   "metadata": {},
   "outputs": [],
   "source": [
    "dice_rolls[:,0] + dice_rolls[:,1] \n"
   ]
  },
  {
   "cell_type": "code",
   "execution_count": null,
   "metadata": {},
   "outputs": [],
   "source": [
    "dice_rolls[:,0] + dice_rolls[:,1] > 3"
   ]
  },
  {
   "cell_type": "code",
   "execution_count": null,
   "metadata": {},
   "outputs": [],
   "source": [
    "aa = dice_rolls == 4"
   ]
  },
  {
   "cell_type": "code",
   "execution_count": null,
   "metadata": {},
   "outputs": [],
   "source": [
    "np.sum(dice_rolls[ss] == 4)"
   ]
  },
  {
   "cell_type": "code",
   "execution_count": null,
   "metadata": {},
   "outputs": [],
   "source": [
    "Ndice = 15\n",
    "n = 5\n",
    "dice_rolls = np.random.randint(1,7,(n, Ndice))\n",
    " \n",
    "first_roll_6 = dice_rolls[dice_rolls[:, 0] == 6, :]\n",
    " \n",
    "(first_roll_6.sum(axis=1) == 10).sum()/first_roll_6.shape[0]"
   ]
  },
  {
   "cell_type": "code",
   "execution_count": null,
   "metadata": {},
   "outputs": [],
   "source": [
    "ss = np.where(dice_rolls[:,0] == 6);\n",
    "#ss = np.sum(dice_rolls,axis=1) > 7\n",
    "#np.sum(dice_rolls[ss] == 4)/n\n",
    "(dice_rolls[ss].sum(axis=1) == 10).sum()/len(ss)"
   ]
  },
  {
   "cell_type": "code",
   "execution_count": null,
   "metadata": {},
   "outputs": [],
   "source": [
    "(dice_rolls[ss].sum(axis=1) == 10).sum()/len(dice_rolls[ss])"
   ]
  },
  {
   "cell_type": "code",
   "execution_count": null,
   "metadata": {},
   "outputs": [],
   "source": [
    "np.where(dice_rolls == 6)\n",
    "#ss = np.where(dice_rolls == 6)"
   ]
  },
  {
   "cell_type": "code",
   "execution_count": null,
   "metadata": {},
   "outputs": [],
   "source": [
    "dice_rolls"
   ]
  },
  {
   "cell_type": "code",
   "execution_count": null,
   "metadata": {},
   "outputs": [],
   "source": []
  },
  {
   "cell_type": "markdown",
   "metadata": {},
   "source": [
    "### Start Tic-Tac-Toe"
   ]
  },
  {
   "cell_type": "code",
   "execution_count": 1,
   "metadata": {},
   "outputs": [],
   "source": [
    "import pandas as pd\n",
    "import numpy as np\n",
    "\n",
    "class players:\n",
    "    def player():\n",
    "        global player, signs\n",
    "        player = input(\"Enter Player Name: \")\n",
    "        signs = input(\"Enter Sign X or O :\")\n",
    "        return player, signs\n",
    "    \n",
    "    def reset_board():\n",
    "        aac = np.array(['A00','A01','A02','A10','A11','A12','A20','A21','A22'])\n",
    "        bbc = aac.reshape(3,3)\n",
    "        ac = []\n",
    "        return aac, bbc, ac"
   ]
  },
  {
   "cell_type": "code",
   "execution_count": 2,
   "metadata": {},
   "outputs": [],
   "source": [
    "class check_condition_row_col:\n",
    "    def check_rows(bbc):           \n",
    "        lis_O = ['O', 'O', 'O']\n",
    "        lis_X = ['X', 'X', 'X']\n",
    "        List_X_O = [lis_X,lis_O]\n",
    "\n",
    "        for ii in range(0,len(List_X_O)):\n",
    "            for jj in range(0,len(bbc[1])):\n",
    "                if all(bbc[jj,:] == List_X_O[ii]):\n",
    "                    Game_status = \"Finished\" \n",
    "                    return Game_status\n",
    "                    break\n",
    "                elif all(np.diagonal(bbc) == List_X_O[ii]):\n",
    "                    Game_status = \"Finished\" \n",
    "                    return Game_status\n",
    "                    break\n",
    "                else:\n",
    "                    Game_status = \"Not Finished\"\n",
    "                    continue\n",
    "\n",
    "    def check_cols(bbc):\n",
    "        lis_O = ['O', 'O', 'O']\n",
    "        lis_X = ['X', 'X', 'X']\n",
    "        List_X_O = [lis_X,lis_O]\n",
    "\n",
    "\n",
    "        for ii in range(0,len(List_X_O)):\n",
    "            for jj in range(0,len(bbc[0])):\n",
    "                if all(bbc[:,jj] == List_X_O[ii]):\n",
    "                    Game_status = \"Finished\"\n",
    "                    return Game_status\n",
    "                    break\n",
    "                elif all(np.diagonal(bbc) == List_X_O[ii]):\n",
    "                    Game_status = \"Finished\"\n",
    "                    return Game_status\n",
    "                    break\n",
    "                else:\n",
    "                    Game_status = \"Not Finished\"\n",
    "                    continue"
   ]
  },
  {
   "cell_type": "code",
   "execution_count": 3,
   "metadata": {},
   "outputs": [],
   "source": [
    "class user_input:\n",
    "    def input_by_player(player, signs):\n",
    "        sign_1 = signs\n",
    "        x,y = map(int, input(player+\" Enter the position for: \" +signs+\" \").split())\n",
    "        bbc[x,y] = sign_1\n",
    "        df = pd.DataFrame(bbc,index=('Tic', 'Tac', 'Toe'))\n",
    "        df.columns = ['Tic', 'Tac', 'Toe']\n",
    "        sign = sign_1\n",
    "        print(df)\n",
    "        return x, y, player, df, bbc"
   ]
  },
  {
   "cell_type": "code",
   "execution_count": 4,
   "metadata": {},
   "outputs": [],
   "source": [
    "def attached_ac(ac,x,y):\n",
    "    print(\"I am from attached ac\")\n",
    "    ac.append([x,y])\n",
    "    print(ac)\n",
    "    return ac\n",
    "\n",
    "def create_list_not_in_dataFrame(bbc):\n",
    "    X1, Y1 = np.where(bbc != 'X') \n",
    "    X2, Y2 = np.where(bbc != 'O')\n",
    "    return X1, Y1, X2, Y2\n",
    "\n",
    "def computer_turn(X1,Y1,X2,Y2):\n",
    "\n",
    "    if X1 == 'NULL':\n",
    "        print(\"OK\")\n",
    "    else:\n",
    "        X3 = np.concatenate((np.reshape(X1,(len(X1),1)),np.reshape(Y1,(len(X1),1))),axis=1)\n",
    "\n",
    "    if X2 == 'NULL':\n",
    "        print(\"OK\")\n",
    "    else:\n",
    "        Y3 = np.concatenate((np.reshape(X2,(len(X2),1)),np.reshape(Y2,(len(X2),1))),axis=1)\n",
    "\n",
    "    XX = [x for x in (np.ndarray.tolist(X3) and (np.ndarray.tolist(Y3))) if x not in ac]\n",
    "    Computer_1 = np.random.randint(len(XX))\n",
    "    xc, yc = XX[Computer_1]\n",
    "    return xc, yc, XX\n",
    "\n",
    "##### Original\n",
    "def do_not_repeat(x,y,bbc,ac,player,sign):\n",
    "    while [x,y] in ac:\n",
    "#        print(ac)\n",
    "#        print(\"Right Now I am in do_not_repeat\")\n",
    "        X1, Y1, X2, Y2 = create_list_not_in_dataFrame(bbc)\n",
    "        xc, yc, XX = computer_turn(X1,Y1,X2,Y2)\n",
    "        print(\"Please enter the number at different position such as one of these :\", XX)\n",
    "        x, y, playerX, df, bbc = user_input.input_by_player(player,sign)\n",
    "        if [x,y] == XX:\n",
    "            x, y, playerX, df, bbc = user_input.input_by_player(player,sign)\n",
    "#        print(x, y, player_1)\n",
    "        return ac, x, y, playerX, df, bbc\n",
    "    else:\n",
    "#        print(\"Right Now I am in do_not_repeat ELSE\")\n",
    "        x, y, playerY, df, bbc = user_input.input_by_player(player,sign)\n",
    "        attached_ac(ac,x,y)\n",
    "        return ac, x, y, playerY, df, bbc    \n",
    "    "
   ]
  },
  {
   "cell_type": "code",
   "execution_count": 5,
   "metadata": {
    "scrolled": true
   },
   "outputs": [
    {
     "name": "stdout",
     "output_type": "stream",
     "text": [
      "[['A00' 'A01' 'A02']\n",
      " ['A10' 'A11' 'A12']\n",
      " ['A20' 'A21' 'A22']]\n",
      "Enter Player Name: S\n",
      "Enter Sign X or O :X\n",
      "Enter Player Name: T\n",
      "Enter Sign X or O :O\n",
      "S Enter the position for: X 0 0\n",
      "     Tic  Tac  Toe\n",
      "Tic    X  A01  A02\n",
      "Tac  A10  A11  A12\n",
      "Toe  A20  A21  A22\n",
      "I am from attached ac\n",
      "[[0, 0]]\n"
     ]
    },
    {
     "ename": "KeyboardInterrupt",
     "evalue": "",
     "output_type": "error",
     "traceback": [
      "\u001b[0;31m---------------------------------------------------------------------------\u001b[0m",
      "\u001b[0;31mKeyboardInterrupt\u001b[0m                         Traceback (most recent call last)",
      "\u001b[0;32m~/miniconda3/envs/py3k/lib/python3.7/site-packages/ipykernel/kernelbase.py\u001b[0m in \u001b[0;36m_input_request\u001b[0;34m(self, prompt, ident, parent, password)\u001b[0m\n\u001b[1;32m    884\u001b[0m             \u001b[0;32mtry\u001b[0m\u001b[0;34m:\u001b[0m\u001b[0;34m\u001b[0m\u001b[0;34m\u001b[0m\u001b[0m\n\u001b[0;32m--> 885\u001b[0;31m                 \u001b[0mident\u001b[0m\u001b[0;34m,\u001b[0m \u001b[0mreply\u001b[0m \u001b[0;34m=\u001b[0m \u001b[0mself\u001b[0m\u001b[0;34m.\u001b[0m\u001b[0msession\u001b[0m\u001b[0;34m.\u001b[0m\u001b[0mrecv\u001b[0m\u001b[0;34m(\u001b[0m\u001b[0mself\u001b[0m\u001b[0;34m.\u001b[0m\u001b[0mstdin_socket\u001b[0m\u001b[0;34m,\u001b[0m \u001b[0;36m0\u001b[0m\u001b[0;34m)\u001b[0m\u001b[0;34m\u001b[0m\u001b[0;34m\u001b[0m\u001b[0m\n\u001b[0m\u001b[1;32m    886\u001b[0m             \u001b[0;32mexcept\u001b[0m \u001b[0mException\u001b[0m\u001b[0;34m:\u001b[0m\u001b[0;34m\u001b[0m\u001b[0;34m\u001b[0m\u001b[0m\n",
      "\u001b[0;32m~/miniconda3/envs/py3k/lib/python3.7/site-packages/jupyter_client/session.py\u001b[0m in \u001b[0;36mrecv\u001b[0;34m(self, socket, mode, content, copy)\u001b[0m\n\u001b[1;32m    802\u001b[0m         \u001b[0;32mtry\u001b[0m\u001b[0;34m:\u001b[0m\u001b[0;34m\u001b[0m\u001b[0;34m\u001b[0m\u001b[0m\n\u001b[0;32m--> 803\u001b[0;31m             \u001b[0mmsg_list\u001b[0m \u001b[0;34m=\u001b[0m \u001b[0msocket\u001b[0m\u001b[0;34m.\u001b[0m\u001b[0mrecv_multipart\u001b[0m\u001b[0;34m(\u001b[0m\u001b[0mmode\u001b[0m\u001b[0;34m,\u001b[0m \u001b[0mcopy\u001b[0m\u001b[0;34m=\u001b[0m\u001b[0mcopy\u001b[0m\u001b[0;34m)\u001b[0m\u001b[0;34m\u001b[0m\u001b[0;34m\u001b[0m\u001b[0m\n\u001b[0m\u001b[1;32m    804\u001b[0m         \u001b[0;32mexcept\u001b[0m \u001b[0mzmq\u001b[0m\u001b[0;34m.\u001b[0m\u001b[0mZMQError\u001b[0m \u001b[0;32mas\u001b[0m \u001b[0me\u001b[0m\u001b[0;34m:\u001b[0m\u001b[0;34m\u001b[0m\u001b[0;34m\u001b[0m\u001b[0m\n",
      "\u001b[0;32m~/miniconda3/envs/py3k/lib/python3.7/site-packages/zmq/sugar/socket.py\u001b[0m in \u001b[0;36mrecv_multipart\u001b[0;34m(self, flags, copy, track)\u001b[0m\n\u001b[1;32m    474\u001b[0m         \"\"\"\n\u001b[0;32m--> 475\u001b[0;31m         \u001b[0mparts\u001b[0m \u001b[0;34m=\u001b[0m \u001b[0;34m[\u001b[0m\u001b[0mself\u001b[0m\u001b[0;34m.\u001b[0m\u001b[0mrecv\u001b[0m\u001b[0;34m(\u001b[0m\u001b[0mflags\u001b[0m\u001b[0;34m,\u001b[0m \u001b[0mcopy\u001b[0m\u001b[0;34m=\u001b[0m\u001b[0mcopy\u001b[0m\u001b[0;34m,\u001b[0m \u001b[0mtrack\u001b[0m\u001b[0;34m=\u001b[0m\u001b[0mtrack\u001b[0m\u001b[0;34m)\u001b[0m\u001b[0;34m]\u001b[0m\u001b[0;34m\u001b[0m\u001b[0;34m\u001b[0m\u001b[0m\n\u001b[0m\u001b[1;32m    476\u001b[0m         \u001b[0;31m# have first part already, only loop while more to receive\u001b[0m\u001b[0;34m\u001b[0m\u001b[0;34m\u001b[0m\u001b[0;34m\u001b[0m\u001b[0m\n",
      "\u001b[0;32mzmq/backend/cython/socket.pyx\u001b[0m in \u001b[0;36mzmq.backend.cython.socket.Socket.recv\u001b[0;34m()\u001b[0m\n",
      "\u001b[0;32mzmq/backend/cython/socket.pyx\u001b[0m in \u001b[0;36mzmq.backend.cython.socket.Socket.recv\u001b[0;34m()\u001b[0m\n",
      "\u001b[0;32mzmq/backend/cython/socket.pyx\u001b[0m in \u001b[0;36mzmq.backend.cython.socket._recv_copy\u001b[0;34m()\u001b[0m\n",
      "\u001b[0;32m~/miniconda3/envs/py3k/lib/python3.7/site-packages/zmq/backend/cython/checkrc.pxd\u001b[0m in \u001b[0;36mzmq.backend.cython.checkrc._check_rc\u001b[0;34m()\u001b[0m\n",
      "\u001b[0;31mKeyboardInterrupt\u001b[0m: ",
      "\nDuring handling of the above exception, another exception occurred:\n",
      "\u001b[0;31mKeyboardInterrupt\u001b[0m                         Traceback (most recent call last)",
      "\u001b[0;32m<ipython-input-5-e38fe711b037>\u001b[0m in \u001b[0;36m<module>\u001b[0;34m\u001b[0m\n\u001b[1;32m      7\u001b[0m \u001b[0mx\u001b[0m\u001b[0;34m,\u001b[0m \u001b[0my\u001b[0m\u001b[0;34m,\u001b[0m \u001b[0mplayer_1\u001b[0m\u001b[0;34m,\u001b[0m \u001b[0mdf\u001b[0m\u001b[0;34m,\u001b[0m \u001b[0mbbc\u001b[0m \u001b[0;34m=\u001b[0m \u001b[0muser_input\u001b[0m\u001b[0;34m.\u001b[0m\u001b[0minput_by_player\u001b[0m\u001b[0;34m(\u001b[0m\u001b[0mplayer_1\u001b[0m\u001b[0;34m,\u001b[0m\u001b[0msign_1\u001b[0m\u001b[0;34m)\u001b[0m\u001b[0;34m\u001b[0m\u001b[0;34m\u001b[0m\u001b[0m\n\u001b[1;32m      8\u001b[0m \u001b[0mattached_ac\u001b[0m\u001b[0;34m(\u001b[0m\u001b[0mac\u001b[0m\u001b[0;34m,\u001b[0m\u001b[0mx\u001b[0m\u001b[0;34m,\u001b[0m\u001b[0my\u001b[0m\u001b[0;34m)\u001b[0m\u001b[0;34m\u001b[0m\u001b[0;34m\u001b[0m\u001b[0m\n\u001b[0;32m----> 9\u001b[0;31m \u001b[0mx\u001b[0m\u001b[0;34m,\u001b[0m \u001b[0my\u001b[0m\u001b[0;34m,\u001b[0m \u001b[0mplayer_2\u001b[0m\u001b[0;34m,\u001b[0m \u001b[0mdf\u001b[0m\u001b[0;34m,\u001b[0m \u001b[0mbbc\u001b[0m \u001b[0;34m=\u001b[0m \u001b[0muser_input\u001b[0m\u001b[0;34m.\u001b[0m\u001b[0minput_by_player\u001b[0m\u001b[0;34m(\u001b[0m\u001b[0mplayer_2\u001b[0m\u001b[0;34m,\u001b[0m\u001b[0msign_2\u001b[0m\u001b[0;34m)\u001b[0m\u001b[0;34m\u001b[0m\u001b[0;34m\u001b[0m\u001b[0m\n\u001b[0m\u001b[1;32m     10\u001b[0m \u001b[0mattached_ac\u001b[0m\u001b[0;34m(\u001b[0m\u001b[0mac\u001b[0m\u001b[0;34m,\u001b[0m\u001b[0mx\u001b[0m\u001b[0;34m,\u001b[0m\u001b[0my\u001b[0m\u001b[0;34m)\u001b[0m\u001b[0;34m\u001b[0m\u001b[0;34m\u001b[0m\u001b[0m\n\u001b[1;32m     11\u001b[0m \u001b[0;34m\u001b[0m\u001b[0m\n",
      "\u001b[0;32m<ipython-input-3-1ca8540431b8>\u001b[0m in \u001b[0;36minput_by_player\u001b[0;34m(player, signs)\u001b[0m\n\u001b[1;32m      2\u001b[0m     \u001b[0;32mdef\u001b[0m \u001b[0minput_by_player\u001b[0m\u001b[0;34m(\u001b[0m\u001b[0mplayer\u001b[0m\u001b[0;34m,\u001b[0m \u001b[0msigns\u001b[0m\u001b[0;34m)\u001b[0m\u001b[0;34m:\u001b[0m\u001b[0;34m\u001b[0m\u001b[0;34m\u001b[0m\u001b[0m\n\u001b[1;32m      3\u001b[0m         \u001b[0msign_1\u001b[0m \u001b[0;34m=\u001b[0m \u001b[0msigns\u001b[0m\u001b[0;34m\u001b[0m\u001b[0;34m\u001b[0m\u001b[0m\n\u001b[0;32m----> 4\u001b[0;31m         \u001b[0mx\u001b[0m\u001b[0;34m,\u001b[0m\u001b[0my\u001b[0m \u001b[0;34m=\u001b[0m \u001b[0mmap\u001b[0m\u001b[0;34m(\u001b[0m\u001b[0mint\u001b[0m\u001b[0;34m,\u001b[0m \u001b[0minput\u001b[0m\u001b[0;34m(\u001b[0m\u001b[0mplayer\u001b[0m\u001b[0;34m+\u001b[0m\u001b[0;34m\" Enter the position for: \"\u001b[0m \u001b[0;34m+\u001b[0m\u001b[0msigns\u001b[0m\u001b[0;34m+\u001b[0m\u001b[0;34m\" \"\u001b[0m\u001b[0;34m)\u001b[0m\u001b[0;34m.\u001b[0m\u001b[0msplit\u001b[0m\u001b[0;34m(\u001b[0m\u001b[0;34m)\u001b[0m\u001b[0;34m)\u001b[0m\u001b[0;34m\u001b[0m\u001b[0;34m\u001b[0m\u001b[0m\n\u001b[0m\u001b[1;32m      5\u001b[0m         \u001b[0mbbc\u001b[0m\u001b[0;34m[\u001b[0m\u001b[0mx\u001b[0m\u001b[0;34m,\u001b[0m\u001b[0my\u001b[0m\u001b[0;34m]\u001b[0m \u001b[0;34m=\u001b[0m \u001b[0msign_1\u001b[0m\u001b[0;34m\u001b[0m\u001b[0;34m\u001b[0m\u001b[0m\n\u001b[1;32m      6\u001b[0m         \u001b[0mdf\u001b[0m \u001b[0;34m=\u001b[0m \u001b[0mpd\u001b[0m\u001b[0;34m.\u001b[0m\u001b[0mDataFrame\u001b[0m\u001b[0;34m(\u001b[0m\u001b[0mbbc\u001b[0m\u001b[0;34m,\u001b[0m\u001b[0mindex\u001b[0m\u001b[0;34m=\u001b[0m\u001b[0;34m(\u001b[0m\u001b[0;34m'Tic'\u001b[0m\u001b[0;34m,\u001b[0m \u001b[0;34m'Tac'\u001b[0m\u001b[0;34m,\u001b[0m \u001b[0;34m'Toe'\u001b[0m\u001b[0;34m)\u001b[0m\u001b[0;34m)\u001b[0m\u001b[0;34m\u001b[0m\u001b[0;34m\u001b[0m\u001b[0m\n",
      "\u001b[0;32m~/miniconda3/envs/py3k/lib/python3.7/site-packages/ipykernel/kernelbase.py\u001b[0m in \u001b[0;36mraw_input\u001b[0;34m(self, prompt)\u001b[0m\n\u001b[1;32m    858\u001b[0m             \u001b[0mself\u001b[0m\u001b[0;34m.\u001b[0m\u001b[0m_parent_ident\u001b[0m\u001b[0;34m,\u001b[0m\u001b[0;34m\u001b[0m\u001b[0;34m\u001b[0m\u001b[0m\n\u001b[1;32m    859\u001b[0m             \u001b[0mself\u001b[0m\u001b[0;34m.\u001b[0m\u001b[0m_parent_header\u001b[0m\u001b[0;34m,\u001b[0m\u001b[0;34m\u001b[0m\u001b[0;34m\u001b[0m\u001b[0m\n\u001b[0;32m--> 860\u001b[0;31m             \u001b[0mpassword\u001b[0m\u001b[0;34m=\u001b[0m\u001b[0;32mFalse\u001b[0m\u001b[0;34m,\u001b[0m\u001b[0;34m\u001b[0m\u001b[0;34m\u001b[0m\u001b[0m\n\u001b[0m\u001b[1;32m    861\u001b[0m         )\n\u001b[1;32m    862\u001b[0m \u001b[0;34m\u001b[0m\u001b[0m\n",
      "\u001b[0;32m~/miniconda3/envs/py3k/lib/python3.7/site-packages/ipykernel/kernelbase.py\u001b[0m in \u001b[0;36m_input_request\u001b[0;34m(self, prompt, ident, parent, password)\u001b[0m\n\u001b[1;32m    888\u001b[0m             \u001b[0;32mexcept\u001b[0m \u001b[0mKeyboardInterrupt\u001b[0m\u001b[0;34m:\u001b[0m\u001b[0;34m\u001b[0m\u001b[0;34m\u001b[0m\u001b[0m\n\u001b[1;32m    889\u001b[0m                 \u001b[0;31m# re-raise KeyboardInterrupt, to truncate traceback\u001b[0m\u001b[0;34m\u001b[0m\u001b[0;34m\u001b[0m\u001b[0;34m\u001b[0m\u001b[0m\n\u001b[0;32m--> 890\u001b[0;31m                 \u001b[0;32mraise\u001b[0m \u001b[0mKeyboardInterrupt\u001b[0m\u001b[0;34m\u001b[0m\u001b[0;34m\u001b[0m\u001b[0m\n\u001b[0m\u001b[1;32m    891\u001b[0m             \u001b[0;32melse\u001b[0m\u001b[0;34m:\u001b[0m\u001b[0;34m\u001b[0m\u001b[0;34m\u001b[0m\u001b[0m\n\u001b[1;32m    892\u001b[0m                 \u001b[0;32mbreak\u001b[0m\u001b[0;34m\u001b[0m\u001b[0;34m\u001b[0m\u001b[0m\n",
      "\u001b[0;31mKeyboardInterrupt\u001b[0m: "
     ]
    }
   ],
   "source": [
    "aac, bbc, ac = players.reset_board()\n",
    "print(bbc)\n",
    "\n",
    "player_1,sign_1 = players.player()\n",
    "player_2,sign_2 = players.player()\n",
    "\n",
    "x, y, player_1, df, bbc = user_input.input_by_player(player_1,sign_1)\n",
    "attached_ac(ac,x,y)\n",
    "x, y, player_2, df, bbc = user_input.input_by_player(player_2,sign_2)\n",
    "attached_ac(ac,x,y)\n",
    "\n",
    "Game_status_row = 'Not Finished'\n",
    "Game_status_cols = 'Not Finished'\n",
    "\n",
    "\n",
    "#### Original #######\n",
    "while[ (Game_status_row != 'Finished') or (Game_status_cols != 'Finished')]:\n",
    "    x, y, player_1, df, bbc = user_input.input_by_player(player_1,sign_1)\n",
    "    attached_ac(ac,x,y)\n",
    "    Game_status_row = check_condition_row_col.check_rows(bbc)\n",
    "    Game_status_cols = check_condition_row_col.check_cols(bbc)\n",
    "    if Game_status_cols == 'Finished' or Game_status_row == 'Finished':\n",
    "        print(\"Player : \"+player_1+\"  have Won\")\n",
    "        break\n",
    "    else:\n",
    "        ac, x,y, player_2, df, bbc = do_not_repeat(x,y,bbc,ac, player_2, sign_2)\n",
    "        print(\"Sign: \"+sign_2+\" player: \"+player_2)\n",
    "        attached_ac(ac,x,y)\n",
    "        Game_status_row = check_condition_row_col.check_rows(bbc)\n",
    "        Game_status_cols = check_condition_row_col.check_cols(bbc)\n",
    "#        print(Game_status_row)\n",
    "#        print(Game_status_cols)\n",
    "        if Game_status_cols == 'Finished' or Game_status_row == 'Finished':\n",
    "            print(\"Player : \"+player_2+\"  have Won\")\n",
    "            break\n"
   ]
  },
  {
   "cell_type": "code",
   "execution_count": 9,
   "metadata": {},
   "outputs": [
    {
     "data": {
      "text/plain": [
       "str"
      ]
     },
     "execution_count": 9,
     "metadata": {},
     "output_type": "execute_result"
    }
   ],
   "source": [
    "#import seaborn as sns\n",
    "type(player_1)"
   ]
  },
  {
   "cell_type": "code",
   "execution_count": 443,
   "metadata": {},
   "outputs": [],
   "source": [
    "cm = sns.light_palette(\"green\", as_cmap=True)"
   ]
  },
  {
   "cell_type": "code",
   "execution_count": 444,
   "metadata": {},
   "outputs": [],
   "source": [
    "s = df.style.background_gradient(cmap=cm)"
   ]
  },
  {
   "cell_type": "code",
   "execution_count": 445,
   "metadata": {},
   "outputs": [
    {
     "data": {
      "text/html": [
       "<style  type=\"text/css\" >\n",
       "</style><table id=\"T_150b62f4_0c8b_11ea_a35a_acde48001122\" ><thead>    <tr>        <th class=\"blank level0\" ></th>        <th class=\"col_heading level0 col0\" >Tic</th>        <th class=\"col_heading level0 col1\" >Tac</th>        <th class=\"col_heading level0 col2\" >Toe</th>    </tr></thead><tbody>\n",
       "                <tr>\n",
       "                        <th id=\"T_150b62f4_0c8b_11ea_a35a_acde48001122level0_row0\" class=\"row_heading level0 row0\" >Tic</th>\n",
       "                        <td id=\"T_150b62f4_0c8b_11ea_a35a_acde48001122row0_col0\" class=\"data row0 col0\" >A00</td>\n",
       "                        <td id=\"T_150b62f4_0c8b_11ea_a35a_acde48001122row0_col1\" class=\"data row0 col1\" >A01</td>\n",
       "                        <td id=\"T_150b62f4_0c8b_11ea_a35a_acde48001122row0_col2\" class=\"data row0 col2\" >O</td>\n",
       "            </tr>\n",
       "            <tr>\n",
       "                        <th id=\"T_150b62f4_0c8b_11ea_a35a_acde48001122level0_row1\" class=\"row_heading level0 row1\" >Tac</th>\n",
       "                        <td id=\"T_150b62f4_0c8b_11ea_a35a_acde48001122row1_col0\" class=\"data row1 col0\" >X</td>\n",
       "                        <td id=\"T_150b62f4_0c8b_11ea_a35a_acde48001122row1_col1\" class=\"data row1 col1\" >X</td>\n",
       "                        <td id=\"T_150b62f4_0c8b_11ea_a35a_acde48001122row1_col2\" class=\"data row1 col2\" >X</td>\n",
       "            </tr>\n",
       "            <tr>\n",
       "                        <th id=\"T_150b62f4_0c8b_11ea_a35a_acde48001122level0_row2\" class=\"row_heading level0 row2\" >Toe</th>\n",
       "                        <td id=\"T_150b62f4_0c8b_11ea_a35a_acde48001122row2_col0\" class=\"data row2 col0\" >A20</td>\n",
       "                        <td id=\"T_150b62f4_0c8b_11ea_a35a_acde48001122row2_col1\" class=\"data row2 col1\" >A21</td>\n",
       "                        <td id=\"T_150b62f4_0c8b_11ea_a35a_acde48001122row2_col2\" class=\"data row2 col2\" >O</td>\n",
       "            </tr>\n",
       "    </tbody></table>"
      ],
      "text/plain": [
       "<pandas.io.formats.style.Styler at 0x1a22fabb90>"
      ]
     },
     "execution_count": 445,
     "metadata": {},
     "output_type": "execute_result"
    }
   ],
   "source": [
    "s"
   ]
  },
  {
   "cell_type": "code",
   "execution_count": 490,
   "metadata": {},
   "outputs": [
    {
     "data": {
      "text/html": [
       "\n",
       "        <style>\n",
       "            .df tbody tr:nth-child(even) { background-color: lightblue; }\n",
       "        </style>\n",
       "        <table border=\"1\" class=\"dataframe df\">\n",
       "  <thead>\n",
       "    <tr style=\"text-align: right;\">\n",
       "      <th></th>\n",
       "      <th>Tic</th>\n",
       "      <th>Tac</th>\n",
       "      <th>Toe</th>\n",
       "    </tr>\n",
       "  </thead>\n",
       "  <tbody>\n",
       "    <tr>\n",
       "      <th>Tic</th>\n",
       "      <td>A00</td>\n",
       "      <td>A01</td>\n",
       "      <td>O</td>\n",
       "    </tr>\n",
       "    <tr>\n",
       "      <th>Tac</th>\n",
       "      <td>X</td>\n",
       "      <td>X</td>\n",
       "      <td>X</td>\n",
       "    </tr>\n",
       "    <tr>\n",
       "      <th>Toe</th>\n",
       "      <td>A20</td>\n",
       "      <td>A21</td>\n",
       "      <td>O</td>\n",
       "    </tr>\n",
       "  </tbody>\n",
       "</table>"
      ],
      "text/plain": [
       "<IPython.core.display.HTML object>"
      ]
     },
     "execution_count": 490,
     "metadata": {},
     "output_type": "execute_result"
    }
   ],
   "source": [
    "from IPython.display import display, HTML\n",
    "from sklearn.datasets import load_iris\n",
    "import pandas as pd\n",
    "import numpy as np\n",
    "\n",
    "#iris = load_iris()\n",
    "#df = pd.DataFrame(data= np.c_[iris['data'], iris['target']],\n",
    "#                     columns= iris['feature_names'] + ['target'])\n",
    "df = pd.DataFrame(bbc,index=('Tic', 'Tac', 'Toe'))\n",
    "df.columns = ['Tic', 'Tac', 'Toe']\n",
    "\n",
    "HTML('''\n",
    "        <style>\n",
    "            .df tbody tr:nth-child(even) { background-color: lightblue; }\n",
    "        </style>\n",
    "        ''' + df.to_html(classes=\"df\"))\n"
   ]
  },
  {
   "cell_type": "code",
   "execution_count": 495,
   "metadata": {},
   "outputs": [
    {
     "name": "stdout",
     "output_type": "stream",
     "text": [
      "\u001b[6;30;42mSuccess!\u001b[0m\n"
     ]
    }
   ],
   "source": [
    "print('\\x1b[6;30;42m' + 'Success!' + '\\x1b[0m')\n"
   ]
  },
  {
   "cell_type": "code",
   "execution_count": 529,
   "metadata": {},
   "outputs": [],
   "source": [
    "import pandas as pd\n",
    "import numpy as np\n",
    "\n",
    "class players:\n",
    "    def player():\n",
    "        global player, signs, color\n",
    "        player = input(\"Enter Player Name: \")\n",
    "        signs = input(\"Enter Sign X or O :\")\n",
    "        color = input(\"Red or Green Color ?\")\n",
    "        if color == 'Red':\n",
    "            print('\\x1b[0;37;41m' + player + '\\x1b[0m')\n",
    "            print('\\x1b[0;37;41m' + signs + '\\x1b[0m')\n",
    "        else:\n",
    "            print('\\x1b[6;30;42m' + player + '\\x1b[0m')\n",
    "            print('\\x1b[6;30;42m' + signs + '\\x1b[0m')\n",
    "        return player, signs, color\n",
    "    \n",
    "    def reset_board():\n",
    "        aac = np.array(['A00','A01','A02','A10','A11','A12','A20','A21','A22'])\n",
    "        bbc = aac.reshape(3,3)\n",
    "        ac = []\n",
    "        return aac, bbc, ac\n",
    "    \n",
    "\n",
    "# aac, bbc, ac = players.reset_board()\n",
    "# player_1,sign_1 = players.player()\n",
    "# player_2,sign_2 = players.player()"
   ]
  },
  {
   "cell_type": "code",
   "execution_count": 530,
   "metadata": {},
   "outputs": [
    {
     "name": "stdout",
     "output_type": "stream",
     "text": [
      "Enter Player Name: SOPAN\n",
      "Enter Sign X or O :X\n",
      "Red or Green Color ?Red\n",
      "\u001b[0;37;41mSOPAN\u001b[0m\n",
      "\u001b[0;37;41mX\u001b[0m\n"
     ]
    }
   ],
   "source": [
    "player_1,sign_1, Color = players.player()"
   ]
  },
  {
   "cell_type": "code",
   "execution_count": 16,
   "metadata": {},
   "outputs": [],
   "source": [
    "class user_input:\n",
    "    def input_by_player(player, signs, Color):\n",
    "        \n",
    "        sign_1 = signs\n",
    "        x,y = map(int, input(player+\" Enter the position for: \" +signs+\" \").split())\n",
    "        bbc[x,y] = sign_1\n",
    "        df = pd.DataFrame(bbc,index=('Tic', 'Tac', 'Toe'))\n",
    "        df.columns = ['Tic', 'Tac', 'Toe']\n",
    "        print('\\x1b[0;37;41m' + bbc[x,y] + '\\x1b[0m')\n",
    "        #print(df)\n",
    "        return x, y, player, df, bbc"
   ]
  },
  {
   "cell_type": "code",
   "execution_count": 18,
   "metadata": {},
   "outputs": [
    {
     "name": "stdout",
     "output_type": "stream",
     "text": [
      "SOPAN Enter the position for: X 0 0\n",
      "\u001b[0;37;41mX\u001b[0m\n"
     ]
    }
   ],
   "source": [
    "x, y, player_1, df, bbc = user_input.input_by_player(player_1,sign_1, 'red')"
   ]
  },
  {
   "cell_type": "code",
   "execution_count": 14,
   "metadata": {},
   "outputs": [
    {
     "name": "stdout",
     "output_type": "stream",
     "text": [
      "Area of Rectangle: 19200 cm^2\n",
      "Cost of rectangular field: Rs. 38400000 \n"
     ]
    }
   ],
   "source": [
    "class Rectangle:\n",
    "    def __init__(self, length, breadth, unit_cost=0):\n",
    "        self.length = length\n",
    "        self.breadth = breadth\n",
    "        self.unit_cost = unit_cost\n",
    "\n",
    "    def get_perimeter(self):\n",
    "        return 2 * (self.length + self.breadth)\n",
    "   \n",
    "    def get_area(self):\n",
    "        return self.length * self.breadth\n",
    "   \n",
    "    def calculate_cost(self):\n",
    "        area = self.get_area()\n",
    "        return area * self.unit_cost\n",
    "# breadth = 120 cm, length = 160 cm, 1 cm^2 = Rs 2000\n",
    "r = Rectangle(160, 120, 2000)\n",
    "print(\"Area of Rectangle: %s cm^2\" % (r.get_area()))\n",
    "print(\"Cost of rectangular field: Rs. %s \" %(r.calculate_cost()))"
   ]
  },
  {
   "cell_type": "code",
   "execution_count": 27,
   "metadata": {},
   "outputs": [],
   "source": [
    "from matplotlib import pyplot as plt"
   ]
  },
  {
   "cell_type": "code",
   "execution_count": 28,
   "metadata": {},
   "outputs": [],
   "source": [
    "%matplotlib inline"
   ]
  },
  {
   "cell_type": "code",
   "execution_count": 44,
   "metadata": {},
   "outputs": [],
   "source": [
    "data = np.array([(1,2,-1),(2,1,-1),(2,3,-1),(3,2,-1),(4,5,1),(5,4,1),(5,6,1),(6,5,1)])\n",
    "#data = np.array([(1,2,2,3,4,5,5,6), (2,1,3,2,5,4,6,5), (-1,-1,-1,-1,1,1,1,1)])\n"
   ]
  },
  {
   "cell_type": "code",
   "execution_count": 45,
   "metadata": {},
   "outputs": [
    {
     "data": {
      "text/plain": [
       "(8, 3)"
      ]
     },
     "execution_count": 45,
     "metadata": {},
     "output_type": "execute_result"
    }
   ],
   "source": [
    "data.shape"
   ]
  },
  {
   "cell_type": "code",
   "execution_count": 46,
   "metadata": {},
   "outputs": [],
   "source": [
    "df1 = pd.DataFrame(data,columns=['x1', 'x2', 'label'])"
   ]
  },
  {
   "cell_type": "code",
   "execution_count": 50,
   "metadata": {},
   "outputs": [],
   "source": [
    "import seaborn as sns"
   ]
  },
  {
   "cell_type": "code",
   "execution_count": 64,
   "metadata": {},
   "outputs": [
    {
     "data": {
      "text/plain": [
       "<seaborn.axisgrid.FacetGrid at 0x1a2ad2fb50>"
      ]
     },
     "execution_count": 64,
     "metadata": {},
     "output_type": "execute_result"
    },
    {
     "data": {
      "image/png": "[encoded data removed]",
      "text/plain": [
       "<Figure size 406x360 with 1 Axes>"
      ]
     },
     "metadata": {
      "needs_background": "light"
     },
     "output_type": "display_data"
    }
   ],
   "source": [
    "sns.lmplot(\"x1\",\"x2\",hue='label',data=df1,)"
   ]
  },
  {
   "cell_type": "code",
   "execution_count": null,
   "metadata": {},
   "outputs": [],
   "source": []
  }
 ],
 "metadata": {
  "kernelspec": {
   "display_name": "Python 3",
   "language": "python",
   "name": "python3"
  },
  "language_info": {
   "codemirror_mode": {
    "name": "ipython",
    "version": 3
   },
   "file_extension": ".py",
   "mimetype": "text/x-python",
   "name": "python",
   "nbconvert_exporter": "python",
   "pygments_lexer": "ipython3",
   "version": "3.7.4"
  }
 },
 "nbformat": 4,
 "nbformat_minor": 2
}
