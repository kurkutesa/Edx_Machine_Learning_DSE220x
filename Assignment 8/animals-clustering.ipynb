{
 "cells": [
  {
   "cell_type": "markdown",
   "metadata": {},
   "source": [
    "# Clustering animals with attributes"
   ]
  },
  {
   "cell_type": "markdown",
   "metadata": {},
   "source": [
    "In this notebook, we'll get a feel for clustering by applying <font color=\"magenta\">**k-means**</font> and <font color=\"magenta\">**average linkage**</font> to cluster a collection of animals.\n",
    "\n",
    "The data set we'll work with is called `Animals with Attributes`. It contains information about 50 animals. For each, it has 85 real-valued features that capture various properties of the animal: where it lives, what it eats, and so on. You can download the data set from:\n",
    "\n",
    "http://attributes.kyb.tuebingen.mpg.de\n",
    "\n",
    "(Under \"Downloads\", choose the \"base package\".) Make sure the files `'classes.txt'` and `'predicate-matrix-continuous.txt'` are in the same directory as this notebook before you begin."
   ]
  },
  {
   "cell_type": "markdown",
   "metadata": {},
   "source": [
    "## 1. Load in the data set"
   ]
  },
  {
   "cell_type": "markdown",
   "metadata": {},
   "source": [
    "Standard includes as well as some modules for k-means and hierarchical clustering."
   ]
  },
  {
   "cell_type": "code",
   "execution_count": 29,
   "metadata": {},
   "outputs": [],
   "source": [
    "%matplotlib inline\n",
    "import matplotlib\n",
    "import matplotlib.pyplot as plt\n",
    "import numpy as np\n",
    "import scipy.cluster.hierarchy as sch\n",
    "from sklearn.cluster import KMeans"
   ]
  },
  {
   "cell_type": "markdown",
   "metadata": {},
   "source": [
    "Load in the data set. The file `'classes.txt'` contains the names of the 50 animals. The file `'predicate-matrix-continuous.txt'` contains the data itself: 85 attributes per animal."
   ]
  },
  {
   "cell_type": "code",
   "execution_count": 8,
   "metadata": {},
   "outputs": [],
   "source": [
    "#\n",
    "# Load in animal names\n",
    "#\n",
    "f = open('Animals_with_Attributes/classes.txt')\n",
    "lines = f.readlines()\n",
    "names = []\n",
    "for line in lines:\n",
    "    (key,val) = line.split()\n",
    "    names.append(val)\n",
    "f.close()\n",
    "#\n",
    "# Load attribute matrix\n",
    "#\n",
    "x = np.loadtxt('Animals_with_Attributes/predicate-matrix-continuous.txt')"
   ]
  },
  {
   "cell_type": "code",
   "execution_count": 10,
   "metadata": {},
   "outputs": [
    {
     "data": {
      "text/plain": [
       "50"
      ]
     },
     "execution_count": 10,
     "metadata": {},
     "output_type": "execute_result"
    }
   ],
   "source": [
    "len(names)"
   ]
  },
  {
   "cell_type": "markdown",
   "metadata": {},
   "source": [
    "## 2. K-means clustering"
   ]
  },
  {
   "cell_type": "markdown",
   "metadata": {},
   "source": [
    "We now run Lloyd's algorithm to obtain a flat clustering of the data. In the code below, we ask for k=15 clusters, but you should experiment with other choices.\n",
    "\n",
    "We ask for random initialization, which means that different runs of the algorithm will potentially have different outcomes. It is worth running the algorithm several times to see how the results change."
   ]
  },
  {
   "cell_type": "code",
   "execution_count": 91,
   "metadata": {},
   "outputs": [
    {
     "name": "stdout",
     "output_type": "stream",
     "text": [
      "1 ['hippopotamus', 'elephant', 'rhinoceros']\n",
      "2 ['skunk', 'mole', 'hamster', 'rabbit', 'rat', 'mouse', 'raccoon']\n",
      "3 ['killer+whale', 'blue+whale', 'humpback+whale', 'seal', 'otter', 'walrus', 'dolphin']\n",
      "4 ['antelope', 'horse', 'giraffe', 'zebra', 'deer']\n",
      "5 ['beaver', 'fox', 'squirrel', 'bat', 'weasel']\n",
      "6 ['spider+monkey', 'gorilla', 'chimpanzee']\n",
      "7 ['dalmatian', 'persian+cat', 'german+shepherd', 'siamese+cat', 'chihuahua', 'collie']\n",
      "8 ['tiger', 'leopard', 'wolf', 'bobcat', 'lion']\n",
      "9 ['moose', 'ox', 'sheep', 'buffalo', 'giant+panda', 'pig', 'cow']\n",
      "10 ['grizzly+bear', 'polar+bear']\n"
     ]
    }
   ],
   "source": [
    "#\n",
    "# Run Lloyd's algorithm\n",
    "#\n",
    "k = 10 # number of clusters\n",
    "\n",
    "kmeans = KMeans(n_clusters=k, init='k-means++')\n",
    "kmeans.fit(x)\n",
    "#\n",
    "# Get a list of the animals in each cluster\n",
    "#\n",
    "clusters = []\n",
    "for j in range(0,k):\n",
    "    clusters.append([])\n",
    "\n",
    "for i in range(0,50):\n",
    "    clusters[kmeans.labels_[i]].append(names[i])\n",
    "#    print(kmeans.labels_[i])\n",
    "#\n",
    "# Print out clusters\n",
    "#\n",
    "for j in range(0,k):\n",
    "    print (j+1, clusters[j])"
   ]
  },
  {
   "cell_type": "code",
   "execution_count": 92,
   "metadata": {},
   "outputs": [
    {
     "data": {
      "text/plain": [
       "695363.570102381"
      ]
     },
     "execution_count": 92,
     "metadata": {},
     "output_type": "execute_result"
    }
   ],
   "source": [
    "kmeans.inertia_"
   ]
  },
  {
   "cell_type": "code",
   "execution_count": 89,
   "metadata": {},
   "outputs": [
    {
     "name": "stdout",
     "output_type": "stream",
     "text": [
      "1 ['beaver', 'skunk', 'mole', 'hamster', 'squirrel', 'rabbit', 'rat', 'weasel', 'mouse', 'raccoon']\n",
      "2 ['antelope', 'giraffe', 'zebra', 'deer']\n",
      "3 ['hippopotamus', 'elephant', 'rhinoceros']\n",
      "4 ['grizzly+bear', 'tiger', 'leopard', 'fox', 'wolf', 'bobcat', 'lion']\n",
      "5 ['spider+monkey', 'gorilla', 'chimpanzee', 'bat']\n",
      "6 ['killer+whale', 'blue+whale', 'humpback+whale', 'seal', 'otter', 'walrus', 'dolphin']\n",
      "7 ['giant+panda']\n",
      "8 ['horse', 'moose', 'ox', 'sheep', 'buffalo', 'pig', 'cow']\n",
      "9 ['persian+cat', 'polar+bear']\n",
      "10 ['dalmatian', 'german+shepherd', 'siamese+cat', 'chihuahua', 'collie']\n"
     ]
    }
   ],
   "source": [
    "#\n",
    "# Run Lloyd's algorithm\n",
    "#\n",
    "k = 10 # number of clusters\n",
    "#init='random'\n",
    "kmeans = KMeans(n_clusters=k, init='random')\n",
    "kmeans.fit(x)\n",
    "#\n",
    "# Get a list of the animals in each cluster\n",
    "#\n",
    "clusters_random = []\n",
    "for j in range(0,k):\n",
    "    clusters_random.append([])\n",
    "\n",
    "for i in range(0,50):\n",
    "    clusters_random[kmeans.labels_[i]].append(names[i])\n",
    "#    print(kmeans.labels_[i])\n",
    "#\n",
    "# Print out clusters\n",
    "#\n",
    "for j in range(0,k):\n",
    "    print (j+1, clusters_random[j])"
   ]
  },
  {
   "cell_type": "code",
   "execution_count": 90,
   "metadata": {},
   "outputs": [
    {
     "data": {
      "text/plain": [
       "721914.72854"
      ]
     },
     "execution_count": 90,
     "metadata": {},
     "output_type": "execute_result"
    }
   ],
   "source": [
    "kmeans.inertia_"
   ]
  },
  {
   "cell_type": "markdown",
   "metadata": {},
   "source": [
    "## 3. Hierarchical clustering"
   ]
  },
  {
   "cell_type": "markdown",
   "metadata": {},
   "source": [
    "We use the built-in hierarchical clustering module of `scipy` to apply Ward's method to our data. The resulting tree is often called a *dendrogram*, and the module also has a routine that can display one of these."
   ]
  },
  {
   "cell_type": "code",
   "execution_count": 93,
   "metadata": {},
   "outputs": [
    {
     "data": {
      "image/png": "[encoded data removed]",
      "text/plain": [
       "<Figure size 360x720 with 1 Axes>"
      ]
     },
     "metadata": {
      "needs_background": "light"
     },
     "output_type": "display_data"
    }
   ],
   "source": [
    "#\n",
    "# Adjust figure size to accommodate the full tree\n",
    "#\n",
    "from pylab import rcParams\n",
    "rcParams['figure.figsize'] = 5, 10\n",
    "#\n",
    "# Do hierarchical clustering using Ward's method\n",
    "#\n",
    "z = sch.linkage(x, method='ward')\n",
    "#\n",
    "# Display dendrogram\n",
    "#\n",
    "info = sch.dendrogram(z, orientation='left', labels=names, leaf_font_size=12)"
   ]
  },
  {
   "cell_type": "code",
   "execution_count": null,
   "metadata": {},
   "outputs": [],
   "source": []
  },
  {
   "cell_type": "markdown",
   "metadata": {},
   "source": [
    "## 4. Questions to ponder"
   ]
  },
  {
   "cell_type": "markdown",
   "metadata": {},
   "source": [
    "Here are some things to think about:\n",
    "\n",
    "<font color=\"magenta\">Multiple runs of Lloyd's algorithm.</font>\n",
    "Lloyd's algorithm potentially returns a different solution each time it is run. Is there any reason to run it more than once? For instance, is there a sensible way of combining the information from several runs, of interpreting the similarities and differences?\n",
    "\n",
    "<font color=\"magenta\">Sensitivity to the choice of features.</font>\n",
    "Both clustering methods are highly sensitive to the choice of features. How would you feel if the results changed dramatically when just one or two features were dropped? \n",
    "\n",
    "<font color=\"magenta\">Criteria for success.</font>\n",
    "This is clearly an application in which we are hoping that clustering will discover 'natural groups' in the data. To what extent do the algorithms succeed at this? Are the clusters mostly reasonable? Can we, in general, hope that tha clustering will perfectly capture what we want? Under what conditions would we be pleased with the clustering?"
   ]
  },
  {
   "cell_type": "code",
   "execution_count": 100,
   "metadata": {},
   "outputs": [],
   "source": [
    "#For 1st run\n",
    "d1=dict()\n",
    "for j in range(0,k):\n",
    "    d1[j+1]=clusters[j]"
   ]
  },
  {
   "cell_type": "code",
   "execution_count": 101,
   "metadata": {},
   "outputs": [],
   "source": [
    "#For second run\n",
    "d2=dict()\n",
    "for j in range(0,k):\n",
    "    d2[j+1]=clusters_random[j]"
   ]
  },
  {
   "cell_type": "code",
   "execution_count": 102,
   "metadata": {},
   "outputs": [],
   "source": [
    "#Finiding similarities and differences\n",
    "same = set()\n",
    "different = dict()\n",
    "for key in set(d1.keys()) & set(d2.keys()):\n",
    "    if d1[key] == d2[key]:\n",
    "        same.add(key)\n",
    "    else:\n",
    "        if key not in different:\n",
    "            different[key] = []\n",
    "        different[key].extend([d1[key], d2[key]])"
   ]
  },
  {
   "cell_type": "code",
   "execution_count": 103,
   "metadata": {},
   "outputs": [
    {
     "data": {
      "text/plain": [
       "set()"
      ]
     },
     "execution_count": 103,
     "metadata": {},
     "output_type": "execute_result"
    }
   ],
   "source": [
    "same"
   ]
  },
  {
   "cell_type": "code",
   "execution_count": 104,
   "metadata": {},
   "outputs": [
    {
     "data": {
      "text/plain": [
       "{1: [['hippopotamus', 'elephant', 'rhinoceros'],\n",
       "  ['beaver',\n",
       "   'skunk',\n",
       "   'mole',\n",
       "   'hamster',\n",
       "   'squirrel',\n",
       "   'rabbit',\n",
       "   'rat',\n",
       "   'weasel',\n",
       "   'mouse',\n",
       "   'raccoon']],\n",
       " 2: [['skunk', 'mole', 'hamster', 'rabbit', 'rat', 'mouse', 'raccoon'],\n",
       "  ['antelope', 'giraffe', 'zebra', 'deer']],\n",
       " 3: [['killer+whale',\n",
       "   'blue+whale',\n",
       "   'humpback+whale',\n",
       "   'seal',\n",
       "   'otter',\n",
       "   'walrus',\n",
       "   'dolphin'],\n",
       "  ['hippopotamus', 'elephant', 'rhinoceros']],\n",
       " 4: [['antelope', 'horse', 'giraffe', 'zebra', 'deer'],\n",
       "  ['grizzly+bear', 'tiger', 'leopard', 'fox', 'wolf', 'bobcat', 'lion']],\n",
       " 5: [['beaver', 'fox', 'squirrel', 'bat', 'weasel'],\n",
       "  ['spider+monkey', 'gorilla', 'chimpanzee', 'bat']],\n",
       " 6: [['spider+monkey', 'gorilla', 'chimpanzee'],\n",
       "  ['killer+whale',\n",
       "   'blue+whale',\n",
       "   'humpback+whale',\n",
       "   'seal',\n",
       "   'otter',\n",
       "   'walrus',\n",
       "   'dolphin']],\n",
       " 7: [['dalmatian',\n",
       "   'persian+cat',\n",
       "   'german+shepherd',\n",
       "   'siamese+cat',\n",
       "   'chihuahua',\n",
       "   'collie'],\n",
       "  ['giant+panda']],\n",
       " 8: [['tiger', 'leopard', 'wolf', 'bobcat', 'lion'],\n",
       "  ['horse', 'moose', 'ox', 'sheep', 'buffalo', 'pig', 'cow']],\n",
       " 9: [['moose', 'ox', 'sheep', 'buffalo', 'giant+panda', 'pig', 'cow'],\n",
       "  ['persian+cat', 'polar+bear']],\n",
       " 10: [['grizzly+bear', 'polar+bear'],\n",
       "  ['dalmatian', 'german+shepherd', 'siamese+cat', 'chihuahua', 'collie']]}"
      ]
     },
     "execution_count": 104,
     "metadata": {},
     "output_type": "execute_result"
    }
   ],
   "source": [
    "different"
   ]
  },
  {
   "cell_type": "markdown",
   "metadata": {},
   "source": [
    "#### Never do they have same clusters"
   ]
  },
  {
   "cell_type": "code",
   "execution_count": 151,
   "metadata": {},
   "outputs": [],
   "source": [
    "S = np.array([[4.0, 2.0, -3.0],\n",
    "     [2.0, 9.0, 0],\n",
    "     [-3.0, 0, 9.0]])"
   ]
  },
  {
   "cell_type": "code",
   "execution_count": 168,
   "metadata": {},
   "outputs": [],
   "source": [
    "def correlation_from_covariance(covariance):\n",
    "    v = np.sqrt(np.diag(covariance))\n",
    "    outer_v = np.outer(v, v)\n",
    "    correlation = covariance / outer_v\n",
    "    correlation[covariance == 0] = 0\n",
    "    print(outer_v)\n",
    "    return correlation"
   ]
  },
  {
   "cell_type": "code",
   "execution_count": 204,
   "metadata": {},
   "outputs": [
    {
     "name": "stdout",
     "output_type": "stream",
     "text": [
      "[[4. 6. 6.]\n",
      " [6. 9. 9.]\n",
      " [6. 9. 9.]]\n"
     ]
    },
    {
     "data": {
      "text/plain": [
       "array([[ 1.        ,  0.33333333, -0.5       ],\n",
       "       [ 0.33333333,  1.        ,  0.        ],\n",
       "       [-0.5       ,  0.        ,  1.        ]])"
      ]
     },
     "execution_count": 204,
     "metadata": {},
     "output_type": "execute_result"
    }
   ],
   "source": [
    "correlation = correlation_from_covariance(S)\n",
    "correlation"
   ]
  },
  {
   "cell_type": "code",
   "execution_count": 219,
   "metadata": {},
   "outputs": [],
   "source": [
    "u = np.array([1,1,0])\n",
    "ut = np.transpose(u)\n",
    "u_norm = np.multiply(np.linalg.norm(u),u)\n",
    "ut_norm = np.multiply(np.linalg.norm(ut),ut)"
   ]
  },
  {
   "cell_type": "code",
   "execution_count": 221,
   "metadata": {},
   "outputs": [
    {
     "data": {
      "text/plain": [
       "array([[ 4.,  2., -3.],\n",
       "       [ 2.,  9.,  0.],\n",
       "       [-3.,  0.,  9.]])"
      ]
     },
     "execution_count": 221,
     "metadata": {},
     "output_type": "execute_result"
    }
   ],
   "source": [
    "S"
   ]
  },
  {
   "cell_type": "code",
   "execution_count": 241,
   "metadata": {},
   "outputs": [
    {
     "data": {
      "text/plain": [
       "8.5"
      ]
     },
     "execution_count": 241,
     "metadata": {},
     "output_type": "execute_result"
    }
   ],
   "source": [
    "1/2*np.matmul(ut,np.matmul(S,u))"
   ]
  },
  {
   "cell_type": "code",
   "execution_count": 401,
   "metadata": {},
   "outputs": [],
   "source": [
    "## Priblem 11 (a,b)\n",
    "a = np.array([1/2,1/2,1/2,1/2]); b = np.array([-1/2,1/2,-1/2,1/2]); X = np.array([2,4,2,6])"
   ]
  },
  {
   "cell_type": "code",
   "execution_count": 403,
   "metadata": {},
   "outputs": [
    {
     "data": {
      "text/plain": [
       "3.0"
      ]
     },
     "execution_count": 403,
     "metadata": {},
     "output_type": "execute_result"
    }
   ],
   "source": [
    "np.matmul(np.transpose(a),X) ; np.matmul(np.transpose(b),X)"
   ]
  },
  {
   "cell_type": "code",
   "execution_count": 404,
   "metadata": {},
   "outputs": [
    {
     "data": {
      "text/plain": [
       "array([2., 5., 2., 5.])"
      ]
     },
     "execution_count": 404,
     "metadata": {},
     "output_type": "execute_result"
    }
   ],
   "source": [
    "a*np.matmul(np.transpose(a),X) + b*np.matmul(np.transpose(b),X)"
   ]
  },
  {
   "cell_type": "code",
   "execution_count": 407,
   "metadata": {},
   "outputs": [
    {
     "data": {
      "text/plain": [
       "array([ 4., -4.])"
      ]
     },
     "execution_count": 407,
     "metadata": {},
     "output_type": "execute_result"
    }
   ],
   "source": [
    "# Problem 12 (a,b)\n",
    "M = np.array([[5., 1.],[1., 5.]]) ; u1 = np.array([1,1])\n",
    "#(a) sqrt((6^2 + 6^2)/sqrt(2) = ... Basically we have to find the length of the Mu1 and divide by sqrt(2)\n",
    "Mu1 = np.matmul(M,u1)\n",
    "Mu1\n",
    "#(b)  sqrt((4^2 + 4^2))/sqrt(2) = 4 \n",
    "u2 = np.array([1,-1]) ; Mu2 = np.matmul(M,u2)\n",
    "Mu2\n",
    "\n"
   ]
  },
  {
   "cell_type": "code",
   "execution_count": 409,
   "metadata": {},
   "outputs": [
    {
     "data": {
      "text/plain": [
       "2.6729927495071673"
      ]
     },
     "execution_count": 409,
     "metadata": {},
     "output_type": "execute_result"
    }
   ],
   "source": [
    "### Problem 14 \n",
    "## (a)\n",
    "M1 = np.array([[5.0, -3.0, 0.0],\n",
    "     [-3.0, 5.0, 0],\n",
    "     [0.0, 0.0, 4.0]])\n",
    "u3 = np.array([1/1.73,1/1.73,1/1.73])\n",
    "np.matmul(np.transpose(u3),np.matmul(M1,u3))"
   ]
  },
  {
   "cell_type": "code",
   "execution_count": 305,
   "metadata": {},
   "outputs": [
    {
     "data": {
      "text/plain": [
       "array([[ 5., -3.,  0.],\n",
       "       [-3.,  5.,  0.],\n",
       "       [ 0.,  0.,  4.]])"
      ]
     },
     "execution_count": 305,
     "metadata": {},
     "output_type": "execute_result"
    }
   ],
   "source": [
    "M1"
   ]
  },
  {
   "cell_type": "code",
   "execution_count": 309,
   "metadata": {},
   "outputs": [
    {
     "data": {
      "text/plain": [
       "array([-2.12765957,  3.54609929,  2.83687943])"
      ]
     },
     "execution_count": 309,
     "metadata": {},
     "output_type": "execute_result"
    }
   ],
   "source": [
    "np.matmul(M1,np.array([0,1/1.41,1/1.41]))"
   ]
  },
  {
   "cell_type": "code",
   "execution_count": 313,
   "metadata": {},
   "outputs": [
    {
     "data": {
      "text/plain": [
       "array([8., 2., 4.])"
      ]
     },
     "execution_count": 313,
     "metadata": {},
     "output_type": "execute_result"
    }
   ],
   "source": [
    "np.linalg.eigvals(M1)"
   ]
  },
  {
   "cell_type": "code",
   "execution_count": 416,
   "metadata": {},
   "outputs": [
    {
     "data": {
      "text/plain": [
       "array([8., 2., 4.])"
      ]
     },
     "execution_count": 416,
     "metadata": {},
     "output_type": "execute_result"
    }
   ],
   "source": [
    "### problem 14(b)\n",
    "w, v = np.linalg.eig(M1)\n",
    "w #### Eigen Values\n",
    "## where v[:0] and v[:,2] are eigen vectors"
   ]
  },
  {
   "cell_type": "code",
   "execution_count": 321,
   "metadata": {},
   "outputs": [
    {
     "data": {
      "text/plain": [
       "array([ 0.70710678, -0.70710678,  0.        ])"
      ]
     },
     "execution_count": 321,
     "metadata": {},
     "output_type": "execute_result"
    }
   ],
   "source": [
    "v[:,0]"
   ]
  },
  {
   "cell_type": "code",
   "execution_count": 452,
   "metadata": {},
   "outputs": [
    {
     "data": {
      "text/plain": [
       "2.0"
      ]
     },
     "execution_count": 452,
     "metadata": {},
     "output_type": "execute_result"
    }
   ],
   "source": [
    "# Problem 14(d)\n",
    "X = np.array([1.41,-4.24,2])\n",
    "np.matmul(X,v[:,0]) #### First eigen vector\n",
    "np.matmul(X,v[:,2]) ### Second eigen vector"
   ]
  },
  {
   "cell_type": "code",
   "execution_count": 454,
   "metadata": {},
   "outputs": [
    {
     "data": {
      "text/plain": [
       "array([ 2.825, -2.825,  0.   ])"
      ]
     },
     "execution_count": 454,
     "metadata": {},
     "output_type": "execute_result"
    }
   ],
   "source": [
    "(np.matmul(X,v[:,0]))*v[:,0]"
   ]
  },
  {
   "cell_type": "code",
   "execution_count": 455,
   "metadata": {},
   "outputs": [
    {
     "data": {
      "text/plain": [
       "array([0., 0., 2.])"
      ]
     },
     "execution_count": 455,
     "metadata": {},
     "output_type": "execute_result"
    }
   ],
   "source": [
    "(np.matmul(X,v[:,2]))*v[:,2]"
   ]
  },
  {
   "cell_type": "code",
   "execution_count": 456,
   "metadata": {},
   "outputs": [
    {
     "data": {
      "text/plain": [
       "5.995153313703994"
      ]
     },
     "execution_count": 456,
     "metadata": {},
     "output_type": "execute_result"
    }
   ],
   "source": [
    "x = np.linalg.norm((np.matmul(X,v[:,0]))*v[:,0]) + np.linalg.norm((np.matmul(X,v[:,2]))*v[:,2])\n",
    "x_hat = np.sqrt(np.square(1.41) + np.square(-4.24) + np.sqrt(2))\n",
    "x"
   ]
  },
  {
   "cell_type": "code",
   "execution_count": 391,
   "metadata": {},
   "outputs": [
    {
     "data": {
      "text/plain": [
       "1.3713114519646563"
      ]
     },
     "execution_count": 391,
     "metadata": {},
     "output_type": "execute_result"
    }
   ],
   "source": [
    "x - x_hat"
   ]
  },
  {
   "cell_type": "code",
   "execution_count": 421,
   "metadata": {},
   "outputs": [
    {
     "data": {
      "text/plain": [
       "3.9951533137039936"
      ]
     },
     "execution_count": 421,
     "metadata": {},
     "output_type": "execute_result"
    }
   ],
   "source": [
    "np.linalg.norm((np.matmul(X,v[:,0]))*v[:,0])"
   ]
  },
  {
   "cell_type": "code",
   "execution_count": 370,
   "metadata": {},
   "outputs": [],
   "source": [
    "A1 = ((np.matmul(X,v[:,2]))*v[:,2])\n",
    "B1 = ((np.matmul(X,v[:,0]))*v[:,0])"
   ]
  },
  {
   "cell_type": "code",
   "execution_count": 386,
   "metadata": {},
   "outputs": [
    {
     "data": {
      "text/plain": [
       "array([1.99757666, 1.99757666, 0.        ])"
      ]
     },
     "execution_count": 386,
     "metadata": {},
     "output_type": "execute_result"
    }
   ],
   "source": [
    "# np.matmul(B1,v[:,0])\n",
    "# np.matmul(A1,v[:,2]\n",
    "A1*v[:,2]\n",
    "B1*v[:,0]"
   ]
  },
  {
   "cell_type": "code",
   "execution_count": 481,
   "metadata": {},
   "outputs": [
    {
     "data": {
      "text/plain": [
       "array([ 1.41, -4.24,  0.  ])"
      ]
     },
     "execution_count": 481,
     "metadata": {},
     "output_type": "execute_result"
    }
   ],
   "source": [
    "np.matmul(v[:,0],X)*v[:,0] + np.matmul(v[:,1],X)*v[:,1]"
   ]
  },
  {
   "cell_type": "code",
   "execution_count": 482,
   "metadata": {},
   "outputs": [
    {
     "data": {
      "text/plain": [
       "2.0"
      ]
     },
     "execution_count": 482,
     "metadata": {},
     "output_type": "execute_result"
    }
   ],
   "source": [
    "np.sqrt(np.square(1.41 - 1.41) + np.square(-4.24 + 4.24) + np.square(0-2))"
   ]
  },
  {
   "cell_type": "code",
   "execution_count": 485,
   "metadata": {},
   "outputs": [
    {
     "data": {
      "text/plain": [
       "array([[ 1., -2.],\n",
       "       [-2.,  1.]])"
      ]
     },
     "execution_count": 485,
     "metadata": {},
     "output_type": "execute_result"
    }
   ],
   "source": [
    "X1 = np.array([[1, -2.0],\n",
    "     [-2.0, 1.0]])\n",
    "X1"
   ]
  },
  {
   "cell_type": "code",
   "execution_count": 490,
   "metadata": {},
   "outputs": [
    {
     "data": {
      "text/plain": [
       "0.7092198581560284"
      ]
     },
     "execution_count": 490,
     "metadata": {},
     "output_type": "execute_result"
    }
   ],
   "source": [
    "np.matmul(np.array([-1/1.41,1/1.41]),np.array([1,2]))"
   ]
  },
  {
   "cell_type": "code",
   "execution_count": null,
   "metadata": {},
   "outputs": [],
   "source": []
  }
 ],
 "metadata": {
  "kernelspec": {
   "display_name": "Python 3",
   "language": "python",
   "name": "python3"
  },
  "language_info": {
   "codemirror_mode": {
    "name": "ipython",
    "version": 3
   },
   "file_extension": ".py",
   "mimetype": "text/x-python",
   "name": "python",
   "nbconvert_exporter": "python",
   "pygments_lexer": "ipython3",
   "version": "3.7.4"
  },
  "toc": {
   "colors": {
    "hover_highlight": "#DAA520",
    "navigate_num": "#000000",
    "navigate_text": "#333333",
    "running_highlight": "#FF0000",
    "selected_highlight": "#FFD700",
    "sidebar_border": "#EEEEEE",
    "wrapper_background": "#FFFFFF"
   },
   "moveMenuLeft": true,
   "nav_menu": {
    "height": "12px",
    "width": "252px"
   },
   "navigate_menu": true,
   "number_sections": false,
   "sideBar": true,
   "threshold": 4,
   "toc_cell": false,
   "toc_section_display": "block",
   "toc_window_display": false,
   "widenNotebook": false
  }
 },
 "nbformat": 4,
 "nbformat_minor": 1
}
